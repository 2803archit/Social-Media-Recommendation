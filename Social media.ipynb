{
 "cells": [
  {
   "cell_type": "code",
   "execution_count": 45,
   "metadata": {},
   "outputs": [],
   "source": [
    "import pandas as pd\n",
    "import numpy as np\n",
    "from sklearn.preprocessing import OneHotEncoder, MinMaxScaler\n",
    "from sklearn.feature_extraction.text import TfidfVectorizer\n",
    "from sklearn.metrics.pairwise import cosine_similarity\n",
    "from sklearn.neighbors import NearestNeighbors\n",
    "import warnings\n",
    "warnings.filterwarnings('ignore')\n",
    "from sklearn.decomposition import PCA\n"
   ]
  },
  {
   "cell_type": "code",
   "execution_count": 46,
   "metadata": {},
   "outputs": [
    {
     "data": {
      "application/vnd.microsoft.datawrangler.viewer.v0+json": {
       "columns": [
        {
         "name": "index",
         "rawType": "int64",
         "type": "integer"
        },
        {
         "name": "UserID",
         "rawType": "int64",
         "type": "integer"
        },
        {
         "name": "Name",
         "rawType": "object",
         "type": "string"
        },
        {
         "name": "Gender",
         "rawType": "object",
         "type": "string"
        },
        {
         "name": "DOB",
         "rawType": "object",
         "type": "string"
        },
        {
         "name": "Interests",
         "rawType": "object",
         "type": "string"
        },
        {
         "name": "City",
         "rawType": "object",
         "type": "string"
        },
        {
         "name": "Country",
         "rawType": "object",
         "type": "string"
        }
       ],
       "conversionMethod": "pd.DataFrame",
       "ref": "e97c07fc-1b19-46ea-915a-6a740bf41ea7",
       "rows": [
        [
         "0",
         "1",
         "Jesse Lawhorn",
         "Female",
         "1958-10-15",
         "'Movies', 'Fashion', 'Fashion', 'Books'",
         "Sibolga",
         "Indonesia"
        ],
        [
         "1",
         "2",
         "Stacy Payne",
         "Female",
         "2004-07-21",
         "'Gaming', 'Finance and investments', 'Outdoor activities', 'Travel'",
         "Al Abyār",
         "Libya"
        ],
        [
         "2",
         "3",
         "Katrina Nicewander",
         "Female",
         "2000-02-07",
         "'DIY and crafts', 'Music', 'Science', 'Fashion'",
         "Wādī as Sīr",
         "Jordan"
        ],
        [
         "3",
         "4",
         "Eric Yarbrough",
         "Male",
         "1985-04-14",
         "'Outdoor activities', 'Cars and automobiles'",
         "Matera",
         "Italy"
        ],
        [
         "4",
         "5",
         "Daniel Adkins",
         "Female",
         "1955-09-18",
         "'Politics', 'History'",
         "Biruaca",
         "Venezuela"
        ]
       ],
       "shape": {
        "columns": 7,
        "rows": 5
       }
      },
      "text/html": [
       "<div>\n",
       "<style scoped>\n",
       "    .dataframe tbody tr th:only-of-type {\n",
       "        vertical-align: middle;\n",
       "    }\n",
       "\n",
       "    .dataframe tbody tr th {\n",
       "        vertical-align: top;\n",
       "    }\n",
       "\n",
       "    .dataframe thead th {\n",
       "        text-align: right;\n",
       "    }\n",
       "</style>\n",
       "<table border=\"1\" class=\"dataframe\">\n",
       "  <thead>\n",
       "    <tr style=\"text-align: right;\">\n",
       "      <th></th>\n",
       "      <th>UserID</th>\n",
       "      <th>Name</th>\n",
       "      <th>Gender</th>\n",
       "      <th>DOB</th>\n",
       "      <th>Interests</th>\n",
       "      <th>City</th>\n",
       "      <th>Country</th>\n",
       "    </tr>\n",
       "  </thead>\n",
       "  <tbody>\n",
       "    <tr>\n",
       "      <th>0</th>\n",
       "      <td>1</td>\n",
       "      <td>Jesse Lawhorn</td>\n",
       "      <td>Female</td>\n",
       "      <td>1958-10-15</td>\n",
       "      <td>'Movies', 'Fashion', 'Fashion', 'Books'</td>\n",
       "      <td>Sibolga</td>\n",
       "      <td>Indonesia</td>\n",
       "    </tr>\n",
       "    <tr>\n",
       "      <th>1</th>\n",
       "      <td>2</td>\n",
       "      <td>Stacy Payne</td>\n",
       "      <td>Female</td>\n",
       "      <td>2004-07-21</td>\n",
       "      <td>'Gaming', 'Finance and investments', 'Outdoor ...</td>\n",
       "      <td>Al Abyār</td>\n",
       "      <td>Libya</td>\n",
       "    </tr>\n",
       "    <tr>\n",
       "      <th>2</th>\n",
       "      <td>3</td>\n",
       "      <td>Katrina Nicewander</td>\n",
       "      <td>Female</td>\n",
       "      <td>2000-02-07</td>\n",
       "      <td>'DIY and crafts', 'Music', 'Science', 'Fashion'</td>\n",
       "      <td>Wādī as Sīr</td>\n",
       "      <td>Jordan</td>\n",
       "    </tr>\n",
       "    <tr>\n",
       "      <th>3</th>\n",
       "      <td>4</td>\n",
       "      <td>Eric Yarbrough</td>\n",
       "      <td>Male</td>\n",
       "      <td>1985-04-14</td>\n",
       "      <td>'Outdoor activities', 'Cars and automobiles'</td>\n",
       "      <td>Matera</td>\n",
       "      <td>Italy</td>\n",
       "    </tr>\n",
       "    <tr>\n",
       "      <th>4</th>\n",
       "      <td>5</td>\n",
       "      <td>Daniel Adkins</td>\n",
       "      <td>Female</td>\n",
       "      <td>1955-09-18</td>\n",
       "      <td>'Politics', 'History'</td>\n",
       "      <td>Biruaca</td>\n",
       "      <td>Venezuela</td>\n",
       "    </tr>\n",
       "  </tbody>\n",
       "</table>\n",
       "</div>"
      ],
      "text/plain": [
       "   UserID                Name  Gender         DOB  \\\n",
       "0       1       Jesse Lawhorn  Female  1958-10-15   \n",
       "1       2         Stacy Payne  Female  2004-07-21   \n",
       "2       3  Katrina Nicewander  Female  2000-02-07   \n",
       "3       4      Eric Yarbrough    Male  1985-04-14   \n",
       "4       5       Daniel Adkins  Female  1955-09-18   \n",
       "\n",
       "                                           Interests         City    Country  \n",
       "0            'Movies', 'Fashion', 'Fashion', 'Books'      Sibolga  Indonesia  \n",
       "1  'Gaming', 'Finance and investments', 'Outdoor ...     Al Abyār      Libya  \n",
       "2    'DIY and crafts', 'Music', 'Science', 'Fashion'  Wādī as Sīr     Jordan  \n",
       "3       'Outdoor activities', 'Cars and automobiles'       Matera      Italy  \n",
       "4                              'Politics', 'History'      Biruaca  Venezuela  "
      ]
     },
     "execution_count": 46,
     "metadata": {},
     "output_type": "execute_result"
    }
   ],
   "source": [
    "data = pd.read_csv('D:\\MY WORK\\DATA SCIENCE PROJECT\\SOCIAL MEDIA RECOMMENDATION\\SocialMediaUsersDataset.csv')\n",
    "data.head()"
   ]
  },
  {
   "cell_type": "code",
   "execution_count": 47,
   "metadata": {},
   "outputs": [
    {
     "data": {
      "text/plain": [
       "UserID       0\n",
       "Name         0\n",
       "Gender       0\n",
       "DOB          0\n",
       "Interests    0\n",
       "City         0\n",
       "Country      0\n",
       "dtype: int64"
      ]
     },
     "execution_count": 47,
     "metadata": {},
     "output_type": "execute_result"
    }
   ],
   "source": [
    "data.isnull().sum()"
   ]
  },
  {
   "cell_type": "code",
   "execution_count": 48,
   "metadata": {},
   "outputs": [
    {
     "data": {
      "text/plain": [
       "UserID       0\n",
       "Name         0\n",
       "Gender       0\n",
       "DOB          0\n",
       "Interests    0\n",
       "City         0\n",
       "Country      0\n",
       "dtype: int64"
      ]
     },
     "execution_count": 48,
     "metadata": {},
     "output_type": "execute_result"
    }
   ],
   "source": [
    "data.isna().sum()"
   ]
  },
  {
   "cell_type": "code",
   "execution_count": 49,
   "metadata": {},
   "outputs": [
    {
     "data": {
      "application/vnd.microsoft.datawrangler.viewer.v0+json": {
       "columns": [
        {
         "name": "index",
         "rawType": "object",
         "type": "string"
        },
        {
         "name": "UserID",
         "rawType": "float64",
         "type": "float"
        }
       ],
       "conversionMethod": "pd.DataFrame",
       "ref": "00689883-4d3f-47f4-b0e5-0725ebe02fd9",
       "rows": [
        [
         "count",
         "100000.0"
        ],
        [
         "mean",
         "50000.5"
        ],
        [
         "std",
         "28867.65779668774"
        ],
        [
         "min",
         "1.0"
        ],
        [
         "25%",
         "25000.75"
        ],
        [
         "50%",
         "50000.5"
        ],
        [
         "75%",
         "75000.25"
        ],
        [
         "max",
         "100000.0"
        ]
       ],
       "shape": {
        "columns": 1,
        "rows": 8
       }
      },
      "text/html": [
       "<div>\n",
       "<style scoped>\n",
       "    .dataframe tbody tr th:only-of-type {\n",
       "        vertical-align: middle;\n",
       "    }\n",
       "\n",
       "    .dataframe tbody tr th {\n",
       "        vertical-align: top;\n",
       "    }\n",
       "\n",
       "    .dataframe thead th {\n",
       "        text-align: right;\n",
       "    }\n",
       "</style>\n",
       "<table border=\"1\" class=\"dataframe\">\n",
       "  <thead>\n",
       "    <tr style=\"text-align: right;\">\n",
       "      <th></th>\n",
       "      <th>UserID</th>\n",
       "    </tr>\n",
       "  </thead>\n",
       "  <tbody>\n",
       "    <tr>\n",
       "      <th>count</th>\n",
       "      <td>100000.000000</td>\n",
       "    </tr>\n",
       "    <tr>\n",
       "      <th>mean</th>\n",
       "      <td>50000.500000</td>\n",
       "    </tr>\n",
       "    <tr>\n",
       "      <th>std</th>\n",
       "      <td>28867.657797</td>\n",
       "    </tr>\n",
       "    <tr>\n",
       "      <th>min</th>\n",
       "      <td>1.000000</td>\n",
       "    </tr>\n",
       "    <tr>\n",
       "      <th>25%</th>\n",
       "      <td>25000.750000</td>\n",
       "    </tr>\n",
       "    <tr>\n",
       "      <th>50%</th>\n",
       "      <td>50000.500000</td>\n",
       "    </tr>\n",
       "    <tr>\n",
       "      <th>75%</th>\n",
       "      <td>75000.250000</td>\n",
       "    </tr>\n",
       "    <tr>\n",
       "      <th>max</th>\n",
       "      <td>100000.000000</td>\n",
       "    </tr>\n",
       "  </tbody>\n",
       "</table>\n",
       "</div>"
      ],
      "text/plain": [
       "              UserID\n",
       "count  100000.000000\n",
       "mean    50000.500000\n",
       "std     28867.657797\n",
       "min         1.000000\n",
       "25%     25000.750000\n",
       "50%     50000.500000\n",
       "75%     75000.250000\n",
       "max    100000.000000"
      ]
     },
     "execution_count": 49,
     "metadata": {},
     "output_type": "execute_result"
    }
   ],
   "source": [
    "data.describe()"
   ]
  },
  {
   "cell_type": "code",
   "execution_count": 50,
   "metadata": {},
   "outputs": [],
   "source": [
    "data['DOB'] = pd.to_datetime(data['DOB'])\n",
    "data['Age'] = (pd.Timestamp.now() - data['DOB']).dt.days // 365"
   ]
  },
  {
   "cell_type": "code",
   "execution_count": 51,
   "metadata": {},
   "outputs": [
    {
     "data": {
      "application/vnd.microsoft.datawrangler.viewer.v0+json": {
       "columns": [
        {
         "name": "index",
         "rawType": "int64",
         "type": "integer"
        },
        {
         "name": "UserID",
         "rawType": "int64",
         "type": "integer"
        },
        {
         "name": "Name",
         "rawType": "object",
         "type": "string"
        },
        {
         "name": "Gender",
         "rawType": "object",
         "type": "string"
        },
        {
         "name": "DOB",
         "rawType": "datetime64[ns]",
         "type": "datetime"
        },
        {
         "name": "Interests",
         "rawType": "object",
         "type": "string"
        },
        {
         "name": "City",
         "rawType": "object",
         "type": "string"
        },
        {
         "name": "Country",
         "rawType": "object",
         "type": "string"
        },
        {
         "name": "Age",
         "rawType": "int64",
         "type": "integer"
        }
       ],
       "conversionMethod": "pd.DataFrame",
       "ref": "c0cd4e4c-3c3f-44c8-bfe1-aacd1de91e6b",
       "rows": [
        [
         "0",
         "1",
         "Jesse Lawhorn",
         "Female",
         "1958-10-15 00:00:00",
         "'Movies', 'Fashion', 'Fashion', 'Books'",
         "Sibolga",
         "Indonesia",
         "66"
        ],
        [
         "1",
         "2",
         "Stacy Payne",
         "Female",
         "2004-07-21 00:00:00",
         "'Gaming', 'Finance and investments', 'Outdoor activities', 'Travel'",
         "Al Abyār",
         "Libya",
         "20"
        ],
        [
         "2",
         "3",
         "Katrina Nicewander",
         "Female",
         "2000-02-07 00:00:00",
         "'DIY and crafts', 'Music', 'Science', 'Fashion'",
         "Wādī as Sīr",
         "Jordan",
         "25"
        ],
        [
         "3",
         "4",
         "Eric Yarbrough",
         "Male",
         "1985-04-14 00:00:00",
         "'Outdoor activities', 'Cars and automobiles'",
         "Matera",
         "Italy",
         "39"
        ],
        [
         "4",
         "5",
         "Daniel Adkins",
         "Female",
         "1955-09-18 00:00:00",
         "'Politics', 'History'",
         "Biruaca",
         "Venezuela",
         "69"
        ]
       ],
       "shape": {
        "columns": 8,
        "rows": 5
       }
      },
      "text/html": [
       "<div>\n",
       "<style scoped>\n",
       "    .dataframe tbody tr th:only-of-type {\n",
       "        vertical-align: middle;\n",
       "    }\n",
       "\n",
       "    .dataframe tbody tr th {\n",
       "        vertical-align: top;\n",
       "    }\n",
       "\n",
       "    .dataframe thead th {\n",
       "        text-align: right;\n",
       "    }\n",
       "</style>\n",
       "<table border=\"1\" class=\"dataframe\">\n",
       "  <thead>\n",
       "    <tr style=\"text-align: right;\">\n",
       "      <th></th>\n",
       "      <th>UserID</th>\n",
       "      <th>Name</th>\n",
       "      <th>Gender</th>\n",
       "      <th>DOB</th>\n",
       "      <th>Interests</th>\n",
       "      <th>City</th>\n",
       "      <th>Country</th>\n",
       "      <th>Age</th>\n",
       "    </tr>\n",
       "  </thead>\n",
       "  <tbody>\n",
       "    <tr>\n",
       "      <th>0</th>\n",
       "      <td>1</td>\n",
       "      <td>Jesse Lawhorn</td>\n",
       "      <td>Female</td>\n",
       "      <td>1958-10-15</td>\n",
       "      <td>'Movies', 'Fashion', 'Fashion', 'Books'</td>\n",
       "      <td>Sibolga</td>\n",
       "      <td>Indonesia</td>\n",
       "      <td>66</td>\n",
       "    </tr>\n",
       "    <tr>\n",
       "      <th>1</th>\n",
       "      <td>2</td>\n",
       "      <td>Stacy Payne</td>\n",
       "      <td>Female</td>\n",
       "      <td>2004-07-21</td>\n",
       "      <td>'Gaming', 'Finance and investments', 'Outdoor ...</td>\n",
       "      <td>Al Abyār</td>\n",
       "      <td>Libya</td>\n",
       "      <td>20</td>\n",
       "    </tr>\n",
       "    <tr>\n",
       "      <th>2</th>\n",
       "      <td>3</td>\n",
       "      <td>Katrina Nicewander</td>\n",
       "      <td>Female</td>\n",
       "      <td>2000-02-07</td>\n",
       "      <td>'DIY and crafts', 'Music', 'Science', 'Fashion'</td>\n",
       "      <td>Wādī as Sīr</td>\n",
       "      <td>Jordan</td>\n",
       "      <td>25</td>\n",
       "    </tr>\n",
       "    <tr>\n",
       "      <th>3</th>\n",
       "      <td>4</td>\n",
       "      <td>Eric Yarbrough</td>\n",
       "      <td>Male</td>\n",
       "      <td>1985-04-14</td>\n",
       "      <td>'Outdoor activities', 'Cars and automobiles'</td>\n",
       "      <td>Matera</td>\n",
       "      <td>Italy</td>\n",
       "      <td>39</td>\n",
       "    </tr>\n",
       "    <tr>\n",
       "      <th>4</th>\n",
       "      <td>5</td>\n",
       "      <td>Daniel Adkins</td>\n",
       "      <td>Female</td>\n",
       "      <td>1955-09-18</td>\n",
       "      <td>'Politics', 'History'</td>\n",
       "      <td>Biruaca</td>\n",
       "      <td>Venezuela</td>\n",
       "      <td>69</td>\n",
       "    </tr>\n",
       "  </tbody>\n",
       "</table>\n",
       "</div>"
      ],
      "text/plain": [
       "   UserID                Name  Gender        DOB  \\\n",
       "0       1       Jesse Lawhorn  Female 1958-10-15   \n",
       "1       2         Stacy Payne  Female 2004-07-21   \n",
       "2       3  Katrina Nicewander  Female 2000-02-07   \n",
       "3       4      Eric Yarbrough    Male 1985-04-14   \n",
       "4       5       Daniel Adkins  Female 1955-09-18   \n",
       "\n",
       "                                           Interests         City    Country  \\\n",
       "0            'Movies', 'Fashion', 'Fashion', 'Books'      Sibolga  Indonesia   \n",
       "1  'Gaming', 'Finance and investments', 'Outdoor ...     Al Abyār      Libya   \n",
       "2    'DIY and crafts', 'Music', 'Science', 'Fashion'  Wādī as Sīr     Jordan   \n",
       "3       'Outdoor activities', 'Cars and automobiles'       Matera      Italy   \n",
       "4                              'Politics', 'History'      Biruaca  Venezuela   \n",
       "\n",
       "   Age  \n",
       "0   66  \n",
       "1   20  \n",
       "2   25  \n",
       "3   39  \n",
       "4   69  "
      ]
     },
     "execution_count": 51,
     "metadata": {},
     "output_type": "execute_result"
    }
   ],
   "source": [
    "data.head()"
   ]
  },
  {
   "cell_type": "code",
   "execution_count": 52,
   "metadata": {},
   "outputs": [
    {
     "data": {
      "application/vnd.microsoft.datawrangler.viewer.v0+json": {
       "columns": [
        {
         "name": "index",
         "rawType": "int64",
         "type": "integer"
        },
        {
         "name": "UserID",
         "rawType": "int64",
         "type": "integer"
        },
        {
         "name": "Name",
         "rawType": "object",
         "type": "string"
        },
        {
         "name": "Gender",
         "rawType": "object",
         "type": "string"
        },
        {
         "name": "DOB",
         "rawType": "datetime64[ns]",
         "type": "datetime"
        },
        {
         "name": "Interests",
         "rawType": "object",
         "type": "string"
        },
        {
         "name": "City",
         "rawType": "object",
         "type": "string"
        },
        {
         "name": "Country",
         "rawType": "object",
         "type": "string"
        },
        {
         "name": "Age",
         "rawType": "float64",
         "type": "float"
        }
       ],
       "conversionMethod": "pd.DataFrame",
       "ref": "5094407c-1174-415f-beaa-dc3f81fed82c",
       "rows": [
        [
         "0",
         "1",
         "Jesse Lawhorn",
         "Female",
         "1958-10-15 00:00:00",
         "'Movies', 'Fashion', 'Fashion', 'Books'",
         "Sibolga",
         "Indonesia",
         "0.9019607843137256"
        ],
        [
         "1",
         "2",
         "Stacy Payne",
         "Female",
         "2004-07-21 00:00:00",
         "'Gaming', 'Finance and investments', 'Outdoor activities', 'Travel'",
         "Al Abyār",
         "Libya",
         "0.0"
        ],
        [
         "2",
         "3",
         "Katrina Nicewander",
         "Female",
         "2000-02-07 00:00:00",
         "'DIY and crafts', 'Music', 'Science', 'Fashion'",
         "Wādī as Sīr",
         "Jordan",
         "0.0980392156862745"
        ],
        [
         "3",
         "4",
         "Eric Yarbrough",
         "Male",
         "1985-04-14 00:00:00",
         "'Outdoor activities', 'Cars and automobiles'",
         "Matera",
         "Italy",
         "0.3725490196078431"
        ],
        [
         "4",
         "5",
         "Daniel Adkins",
         "Female",
         "1955-09-18 00:00:00",
         "'Politics', 'History'",
         "Biruaca",
         "Venezuela",
         "0.9607843137254903"
        ]
       ],
       "shape": {
        "columns": 8,
        "rows": 5
       }
      },
      "text/html": [
       "<div>\n",
       "<style scoped>\n",
       "    .dataframe tbody tr th:only-of-type {\n",
       "        vertical-align: middle;\n",
       "    }\n",
       "\n",
       "    .dataframe tbody tr th {\n",
       "        vertical-align: top;\n",
       "    }\n",
       "\n",
       "    .dataframe thead th {\n",
       "        text-align: right;\n",
       "    }\n",
       "</style>\n",
       "<table border=\"1\" class=\"dataframe\">\n",
       "  <thead>\n",
       "    <tr style=\"text-align: right;\">\n",
       "      <th></th>\n",
       "      <th>UserID</th>\n",
       "      <th>Name</th>\n",
       "      <th>Gender</th>\n",
       "      <th>DOB</th>\n",
       "      <th>Interests</th>\n",
       "      <th>City</th>\n",
       "      <th>Country</th>\n",
       "      <th>Age</th>\n",
       "    </tr>\n",
       "  </thead>\n",
       "  <tbody>\n",
       "    <tr>\n",
       "      <th>0</th>\n",
       "      <td>1</td>\n",
       "      <td>Jesse Lawhorn</td>\n",
       "      <td>Female</td>\n",
       "      <td>1958-10-15</td>\n",
       "      <td>'Movies', 'Fashion', 'Fashion', 'Books'</td>\n",
       "      <td>Sibolga</td>\n",
       "      <td>Indonesia</td>\n",
       "      <td>0.901961</td>\n",
       "    </tr>\n",
       "    <tr>\n",
       "      <th>1</th>\n",
       "      <td>2</td>\n",
       "      <td>Stacy Payne</td>\n",
       "      <td>Female</td>\n",
       "      <td>2004-07-21</td>\n",
       "      <td>'Gaming', 'Finance and investments', 'Outdoor ...</td>\n",
       "      <td>Al Abyār</td>\n",
       "      <td>Libya</td>\n",
       "      <td>0.000000</td>\n",
       "    </tr>\n",
       "    <tr>\n",
       "      <th>2</th>\n",
       "      <td>3</td>\n",
       "      <td>Katrina Nicewander</td>\n",
       "      <td>Female</td>\n",
       "      <td>2000-02-07</td>\n",
       "      <td>'DIY and crafts', 'Music', 'Science', 'Fashion'</td>\n",
       "      <td>Wādī as Sīr</td>\n",
       "      <td>Jordan</td>\n",
       "      <td>0.098039</td>\n",
       "    </tr>\n",
       "    <tr>\n",
       "      <th>3</th>\n",
       "      <td>4</td>\n",
       "      <td>Eric Yarbrough</td>\n",
       "      <td>Male</td>\n",
       "      <td>1985-04-14</td>\n",
       "      <td>'Outdoor activities', 'Cars and automobiles'</td>\n",
       "      <td>Matera</td>\n",
       "      <td>Italy</td>\n",
       "      <td>0.372549</td>\n",
       "    </tr>\n",
       "    <tr>\n",
       "      <th>4</th>\n",
       "      <td>5</td>\n",
       "      <td>Daniel Adkins</td>\n",
       "      <td>Female</td>\n",
       "      <td>1955-09-18</td>\n",
       "      <td>'Politics', 'History'</td>\n",
       "      <td>Biruaca</td>\n",
       "      <td>Venezuela</td>\n",
       "      <td>0.960784</td>\n",
       "    </tr>\n",
       "  </tbody>\n",
       "</table>\n",
       "</div>"
      ],
      "text/plain": [
       "   UserID                Name  Gender        DOB  \\\n",
       "0       1       Jesse Lawhorn  Female 1958-10-15   \n",
       "1       2         Stacy Payne  Female 2004-07-21   \n",
       "2       3  Katrina Nicewander  Female 2000-02-07   \n",
       "3       4      Eric Yarbrough    Male 1985-04-14   \n",
       "4       5       Daniel Adkins  Female 1955-09-18   \n",
       "\n",
       "                                           Interests         City    Country  \\\n",
       "0            'Movies', 'Fashion', 'Fashion', 'Books'      Sibolga  Indonesia   \n",
       "1  'Gaming', 'Finance and investments', 'Outdoor ...     Al Abyār      Libya   \n",
       "2    'DIY and crafts', 'Music', 'Science', 'Fashion'  Wādī as Sīr     Jordan   \n",
       "3       'Outdoor activities', 'Cars and automobiles'       Matera      Italy   \n",
       "4                              'Politics', 'History'      Biruaca  Venezuela   \n",
       "\n",
       "        Age  \n",
       "0  0.901961  \n",
       "1  0.000000  \n",
       "2  0.098039  \n",
       "3  0.372549  \n",
       "4  0.960784  "
      ]
     },
     "execution_count": 52,
     "metadata": {},
     "output_type": "execute_result"
    }
   ],
   "source": [
    "scaler = MinMaxScaler()\n",
    "data['Age'] = scaler.fit_transform(data[['Age']])\n",
    "data.head()"
   ]
  },
  {
   "cell_type": "code",
   "execution_count": 53,
   "metadata": {},
   "outputs": [
    {
     "data": {
      "application/vnd.microsoft.datawrangler.viewer.v0+json": {
       "columns": [
        {
         "name": "index",
         "rawType": "int64",
         "type": "integer"
        },
        {
         "name": "UserID",
         "rawType": "int64",
         "type": "integer"
        },
        {
         "name": "Name",
         "rawType": "object",
         "type": "string"
        },
        {
         "name": "Gender",
         "rawType": "object",
         "type": "string"
        },
        {
         "name": "DOB",
         "rawType": "datetime64[ns]",
         "type": "datetime"
        },
        {
         "name": "Interests",
         "rawType": "object",
         "type": "string"
        },
        {
         "name": "City",
         "rawType": "object",
         "type": "string"
        },
        {
         "name": "Country",
         "rawType": "object",
         "type": "string"
        },
        {
         "name": "Age",
         "rawType": "float64",
         "type": "float"
        },
        {
         "name": "Gender_Female",
         "rawType": "float64",
         "type": "float"
        },
        {
         "name": "Gender_Male",
         "rawType": "float64",
         "type": "float"
        }
       ],
       "conversionMethod": "pd.DataFrame",
       "ref": "bc3f2bb8-777c-42a8-8646-38c026947254",
       "rows": [
        [
         "0",
         "1",
         "Jesse Lawhorn",
         "Female",
         "1958-10-15 00:00:00",
         "'Movies', 'Fashion', 'Fashion', 'Books'",
         "Sibolga",
         "Indonesia",
         "0.9019607843137256",
         "1.0",
         "0.0"
        ],
        [
         "1",
         "2",
         "Stacy Payne",
         "Female",
         "2004-07-21 00:00:00",
         "'Gaming', 'Finance and investments', 'Outdoor activities', 'Travel'",
         "Al Abyār",
         "Libya",
         "0.0",
         "1.0",
         "0.0"
        ],
        [
         "2",
         "3",
         "Katrina Nicewander",
         "Female",
         "2000-02-07 00:00:00",
         "'DIY and crafts', 'Music', 'Science', 'Fashion'",
         "Wādī as Sīr",
         "Jordan",
         "0.0980392156862745",
         "1.0",
         "0.0"
        ],
        [
         "3",
         "4",
         "Eric Yarbrough",
         "Male",
         "1985-04-14 00:00:00",
         "'Outdoor activities', 'Cars and automobiles'",
         "Matera",
         "Italy",
         "0.3725490196078431",
         "0.0",
         "1.0"
        ],
        [
         "4",
         "5",
         "Daniel Adkins",
         "Female",
         "1955-09-18 00:00:00",
         "'Politics', 'History'",
         "Biruaca",
         "Venezuela",
         "0.9607843137254903",
         "1.0",
         "0.0"
        ]
       ],
       "shape": {
        "columns": 10,
        "rows": 5
       }
      },
      "text/html": [
       "<div>\n",
       "<style scoped>\n",
       "    .dataframe tbody tr th:only-of-type {\n",
       "        vertical-align: middle;\n",
       "    }\n",
       "\n",
       "    .dataframe tbody tr th {\n",
       "        vertical-align: top;\n",
       "    }\n",
       "\n",
       "    .dataframe thead th {\n",
       "        text-align: right;\n",
       "    }\n",
       "</style>\n",
       "<table border=\"1\" class=\"dataframe\">\n",
       "  <thead>\n",
       "    <tr style=\"text-align: right;\">\n",
       "      <th></th>\n",
       "      <th>UserID</th>\n",
       "      <th>Name</th>\n",
       "      <th>Gender</th>\n",
       "      <th>DOB</th>\n",
       "      <th>Interests</th>\n",
       "      <th>City</th>\n",
       "      <th>Country</th>\n",
       "      <th>Age</th>\n",
       "      <th>Gender_Female</th>\n",
       "      <th>Gender_Male</th>\n",
       "    </tr>\n",
       "  </thead>\n",
       "  <tbody>\n",
       "    <tr>\n",
       "      <th>0</th>\n",
       "      <td>1</td>\n",
       "      <td>Jesse Lawhorn</td>\n",
       "      <td>Female</td>\n",
       "      <td>1958-10-15</td>\n",
       "      <td>'Movies', 'Fashion', 'Fashion', 'Books'</td>\n",
       "      <td>Sibolga</td>\n",
       "      <td>Indonesia</td>\n",
       "      <td>0.901961</td>\n",
       "      <td>1.0</td>\n",
       "      <td>0.0</td>\n",
       "    </tr>\n",
       "    <tr>\n",
       "      <th>1</th>\n",
       "      <td>2</td>\n",
       "      <td>Stacy Payne</td>\n",
       "      <td>Female</td>\n",
       "      <td>2004-07-21</td>\n",
       "      <td>'Gaming', 'Finance and investments', 'Outdoor ...</td>\n",
       "      <td>Al Abyār</td>\n",
       "      <td>Libya</td>\n",
       "      <td>0.000000</td>\n",
       "      <td>1.0</td>\n",
       "      <td>0.0</td>\n",
       "    </tr>\n",
       "    <tr>\n",
       "      <th>2</th>\n",
       "      <td>3</td>\n",
       "      <td>Katrina Nicewander</td>\n",
       "      <td>Female</td>\n",
       "      <td>2000-02-07</td>\n",
       "      <td>'DIY and crafts', 'Music', 'Science', 'Fashion'</td>\n",
       "      <td>Wādī as Sīr</td>\n",
       "      <td>Jordan</td>\n",
       "      <td>0.098039</td>\n",
       "      <td>1.0</td>\n",
       "      <td>0.0</td>\n",
       "    </tr>\n",
       "    <tr>\n",
       "      <th>3</th>\n",
       "      <td>4</td>\n",
       "      <td>Eric Yarbrough</td>\n",
       "      <td>Male</td>\n",
       "      <td>1985-04-14</td>\n",
       "      <td>'Outdoor activities', 'Cars and automobiles'</td>\n",
       "      <td>Matera</td>\n",
       "      <td>Italy</td>\n",
       "      <td>0.372549</td>\n",
       "      <td>0.0</td>\n",
       "      <td>1.0</td>\n",
       "    </tr>\n",
       "    <tr>\n",
       "      <th>4</th>\n",
       "      <td>5</td>\n",
       "      <td>Daniel Adkins</td>\n",
       "      <td>Female</td>\n",
       "      <td>1955-09-18</td>\n",
       "      <td>'Politics', 'History'</td>\n",
       "      <td>Biruaca</td>\n",
       "      <td>Venezuela</td>\n",
       "      <td>0.960784</td>\n",
       "      <td>1.0</td>\n",
       "      <td>0.0</td>\n",
       "    </tr>\n",
       "  </tbody>\n",
       "</table>\n",
       "</div>"
      ],
      "text/plain": [
       "   UserID                Name  Gender        DOB  \\\n",
       "0       1       Jesse Lawhorn  Female 1958-10-15   \n",
       "1       2         Stacy Payne  Female 2004-07-21   \n",
       "2       3  Katrina Nicewander  Female 2000-02-07   \n",
       "3       4      Eric Yarbrough    Male 1985-04-14   \n",
       "4       5       Daniel Adkins  Female 1955-09-18   \n",
       "\n",
       "                                           Interests         City    Country  \\\n",
       "0            'Movies', 'Fashion', 'Fashion', 'Books'      Sibolga  Indonesia   \n",
       "1  'Gaming', 'Finance and investments', 'Outdoor ...     Al Abyār      Libya   \n",
       "2    'DIY and crafts', 'Music', 'Science', 'Fashion'  Wādī as Sīr     Jordan   \n",
       "3       'Outdoor activities', 'Cars and automobiles'       Matera      Italy   \n",
       "4                              'Politics', 'History'      Biruaca  Venezuela   \n",
       "\n",
       "        Age  Gender_Female  Gender_Male  \n",
       "0  0.901961            1.0          0.0  \n",
       "1  0.000000            1.0          0.0  \n",
       "2  0.098039            1.0          0.0  \n",
       "3  0.372549            0.0          1.0  \n",
       "4  0.960784            1.0          0.0  "
      ]
     },
     "execution_count": 53,
     "metadata": {},
     "output_type": "execute_result"
    }
   ],
   "source": [
    "encoder = OneHotEncoder(sparse_output=False)\n",
    "Gender_encoded = encoder.fit_transform(data[['Gender']])\n",
    "gender_column = encoder.get_feature_names_out(['Gender'])\n",
    "gender_df = pd.DataFrame(Gender_encoded,columns=gender_column)\n",
    "gender_df.index = data.index\n",
    "data = pd.concat([data, gender_df], axis=1)\n",
    "data.head()"
   ]
  },
  {
   "cell_type": "code",
   "execution_count": 54,
   "metadata": {},
   "outputs": [
    {
     "data": {
      "text/plain": [
       "(100000, 500)"
      ]
     },
     "execution_count": 54,
     "metadata": {},
     "output_type": "execute_result"
    }
   ],
   "source": [
    "vectorizer = TfidfVectorizer(stop_words='english',max_features=500,ngram_range=(1,2),max_df=0.8,min_df=5)\n",
    "interest_vectorized = vectorizer.fit_transform(data['Interests'])\n",
    "interest_array = interest_vectorized.toarray()\n",
    "interest_array = scaler.fit_transform(interest_array)\n",
    "interest_array.shape"
   ]
  },
  {
   "cell_type": "code",
   "execution_count": 55,
   "metadata": {},
   "outputs": [],
   "source": [
    "pca = PCA(n_components=50)\n",
    "interest_array_pca = pca.fit_transform(interest_array)"
   ]
  },
  {
   "cell_type": "code",
   "execution_count": 56,
   "metadata": {},
   "outputs": [],
   "source": [
    "user_profile = np.hstack([\n",
    "    data['Age'].values.reshape(-1,1)*0.2,\n",
    "    data['Gender_Male'].values.reshape(-1,1)*0.1,\n",
    "    data['Gender_Female'].values.reshape(-1,1)*0.1,\n",
    "    interest_array_pca*0.3\n",
    "])"
   ]
  },
  {
   "cell_type": "code",
   "execution_count": 57,
   "metadata": {},
   "outputs": [
    {
     "data": {
      "text/plain": [
       "\"knn =  NearestNeighbors(n_neighbors=30,algorithm='brute',metric='cosine',n_jobs=-1)\\nknn.fit(user_profile)\\n\\ndistance, indices = knn.kneighbors(user_profile) \""
      ]
     },
     "execution_count": 57,
     "metadata": {},
     "output_type": "execute_result"
    }
   ],
   "source": [
    "'''knn =  NearestNeighbors(n_neighbors=30,algorithm='brute',metric='cosine',n_jobs=-1)\n",
    "knn.fit(user_profile)\n",
    "\n",
    "distance, indices = knn.kneighbors(user_profile) '''\n"
   ]
  },
  {
   "cell_type": "code",
   "execution_count": 106,
   "metadata": {},
   "outputs": [],
   "source": [
    "def recommend_user(user_index,user_profile,min_similarity=0.8,top_n=5):\n",
    "    user_vector = user_profile[user_index].reshape(1,-1)\n",
    "    user_similarity = cosine_similarity(user_vector,user_profile).flatten()\n",
    "    similar_users = [(i,user_similarity[i]) for i in range(len(user_similarity)) if i!=user_index]\n",
    "    similar_users = [users for users in similar_users if users[1]>min_similarity]\n",
    "    similar_users.sort(key=lambda x:x[1],reverse=True)\n",
    "    top_similar_users = similar_users[:top_n]\n",
    "\n",
    "\n",
    "    similar_users_info = []\n",
    "    for idx,similarity in top_similar_users:\n",
    "        user_info = data.iloc[idx].to_dict()\n",
    "        user_info['similarity'] = round(similarity,4)\n",
    "        similar_users_info.append(user_info)\n",
    "        #avg_similarity = np.mean(user_info['similarity'])\n",
    "        #print(f\"Average Similarity: {avg_similarity}\")\n",
    "\n",
    "\n",
    "    if similar_users_info:\n",
    "        recommendations_df = pd.DataFrame(similar_users_info)\n",
    "    else:\n",
    "        recommendations_df = pd.DataFrame(columns=data.columns.tolist() + ['Similarity'])\n",
    "    avg_similarity = np.mean([sim[1] for sim in top_similar_users]) if top_similar_users else 0\n",
    "\n",
    "    return recommendations_df,round(avg_similarity,4)\n",
    "    \n"
   ]
  },
  {
   "cell_type": "code",
   "execution_count": 107,
   "metadata": {},
   "outputs": [
    {
     "name": "stdout",
     "output_type": "stream",
     "text": [
      "Similar Users DataFrame:\n",
      "   UserID              Name  Gender        DOB  \\\n",
      "0    3948    Douglas Pierce  Female 1982-04-16   \n",
      "1   56132       Marlyn Tull  Female 1956-04-21   \n",
      "2   53268  Idella Demetriou  Female 1984-04-06   \n",
      "3    1138     Tommy Watkins  Female 1978-04-29   \n",
      "4   54616     Kelly Sanchez  Female 1978-07-17   \n",
      "\n",
      "                        Interests        City        Country       Age  \\\n",
      "0  'Music', 'Health and wellness'      Toulon         France  0.431373   \n",
      "1  'Music', 'Health and wellness'     Roswell  United States  0.941176   \n",
      "2  'Music', 'Health and wellness'    Tasbuget     Kazakhstan  0.392157   \n",
      "3  'Health and wellness', 'Music'  Bode Saadu        Nigeria  0.509804   \n",
      "4  'Health and wellness', 'Music'   Riihimäki        Finland  0.509804   \n",
      "\n",
      "   Gender_Female  Gender_Male  similarity  \n",
      "0            1.0          0.0      0.9954  \n",
      "1            1.0          0.0      0.9945  \n",
      "2            1.0          0.0      0.9937  \n",
      "3            1.0          0.0      0.9906  \n",
      "4            1.0          0.0      0.9906  \n",
      "\n",
      "Average Similarity Score: 0.9929\n"
     ]
    }
   ],
   "source": [
    "user_index = 100\n",
    "recommendations_df, avg_sim = recommend_user(user_index, user_profile, min_similarity=0.8, top_n=5)\n",
    "\n",
    "print(\"Similar Users DataFrame:\")\n",
    "print(recommendations_df)\n",
    "print(\"\\nAverage Similarity Score:\", avg_sim)"
   ]
  },
  {
   "cell_type": "code",
   "execution_count": 112,
   "metadata": {},
   "outputs": [
    {
     "data": {
      "text/plain": [
       "(   UserID             Name  Gender        DOB                   Interests  \\\n",
       " 0   28201    Perla Bittner  Female 1961-09-20  'Pets', 'Art', 'Gardening'   \n",
       " 1   42448    Solomon Cosby  Female 1956-06-20  'Gardening', 'Art', 'Pets'   \n",
       " 2   50647    Evelyn Nelson  Female 1963-03-10        'Art', 'Art', 'Pets'   \n",
       " 3   21329  Stanley Edwards  Female 1961-11-14               'Pets', 'Art'   \n",
       " 4    4774     Irene Hunter  Female 1963-03-23               'Pets', 'Art'   \n",
       " \n",
       "                    City Country       Age  Gender_Female  Gender_Male  \\\n",
       " 0               Zhongba   China  0.843137            1.0          0.0   \n",
       " 1               Ajodhya   India  0.941176            1.0          0.0   \n",
       " 2                 Ikeda   Japan  0.823529            1.0          0.0   \n",
       " 3                Kasama  Zambia  0.843137            1.0          0.0   \n",
       " 4  Aparecida do Taboado  Brazil  0.803922            1.0          0.0   \n",
       " \n",
       "    similarity  \n",
       " 0      0.9718  \n",
       " 1      0.9669  \n",
       " 2      0.9488  \n",
       " 3      0.9346  \n",
       " 4      0.9334  ,\n",
       " 0.9511)"
      ]
     },
     "execution_count": 112,
     "metadata": {},
     "output_type": "execute_result"
    }
   ],
   "source": [
    "user_index=1000\n",
    "recommend_user(user_index,user_profile,min_similarity=0.8,top_n=5)"
   ]
  },
  {
   "cell_type": "code",
   "execution_count": 113,
   "metadata": {},
   "outputs": [],
   "source": [
    "def multiple_users(user_indices,user_profile,min_similarity=0.8,top_n=5):\n",
    "    recommend_users = []\n",
    "    for user_index in user_indices:\n",
    "        recommend_users.append(recommend_user(user_index,user_profile,min_similarity,top_n))\n",
    "    return recommend_users\n",
    "\n",
    "    \n",
    "    \n",
    "user_indices = np.random.choice(len(user_profile),5,replace=False)"
   ]
  },
  {
   "cell_type": "code",
   "execution_count": 114,
   "metadata": {},
   "outputs": [
    {
     "data": {
      "text/plain": [
       "[(   UserID             Name Gender        DOB  \\\n",
       "  0    4805    Dwight Murphy   Male 1962-12-11   \n",
       "  1    1284        Star Imai   Male 1982-06-22   \n",
       "  2   68118  William Ehrhart   Male 1967-01-08   \n",
       "  3   98327       Rita Paulk   Male 1994-12-16   \n",
       "  4   87088     Robert Blake   Male 1977-11-16   \n",
       "  \n",
       "                                             Interests         City  \\\n",
       "  0  'Social causes and activism', 'Nature', 'Techn...      Esbjerg   \n",
       "  1  'Nature', 'Technology', 'Social causes and act...      Samdari   \n",
       "  2  'Nature', 'Technology', 'Social causes and act...  Castle Rock   \n",
       "  3  'Technology', 'Nature', 'Social causes and act...        Massy   \n",
       "  4  'Nature', 'Technology', 'Nature', 'Social caus...      Tatsuno   \n",
       "  \n",
       "           Country       Age  Gender_Female  Gender_Male  similarity  \n",
       "  0        Denmark  0.823529            0.0          1.0      0.9995  \n",
       "  1          India  0.431373            0.0          1.0      0.9930  \n",
       "  2  United States  0.745098            0.0          1.0      0.9925  \n",
       "  3         France  0.196078            0.0          1.0      0.9833  \n",
       "  4          Japan  0.529412            0.0          1.0      0.9820  ,\n",
       "  0.9901),\n",
       " (   UserID             Name  Gender        DOB                  Interests  \\\n",
       "  0   12849     Arthur Brown  Female 1992-10-26  'Finance and investments'   \n",
       "  1   22006     Michael Gray  Female 1992-09-16  'Finance and investments'   \n",
       "  2   43220  Melissa Roberts  Female 1992-04-04  'Finance and investments'   \n",
       "  3   52886      Deborah Ely  Female 1992-12-15  'Finance and investments'   \n",
       "  4   58806      Robert Ross  Female 1992-03-29  'Finance and investments'   \n",
       "  \n",
       "            City    Country       Age  Gender_Female  Gender_Male  similarity  \n",
       "  0    Kozhikode      India  0.235294            1.0          0.0         1.0  \n",
       "  1  Jhanjhārpur      India  0.235294            1.0          0.0         1.0  \n",
       "  2      Güstrow    Germany  0.235294            1.0          0.0         1.0  \n",
       "  3        Dogbo      Benin  0.235294            1.0          0.0         1.0  \n",
       "  4    Margasari  Indonesia  0.235294            1.0          0.0         1.0  ,\n",
       "  1.0),\n",
       " (   UserID               Name  Gender        DOB  \\\n",
       "  0   82121       Paul Herrera  Female 1958-04-08   \n",
       "  1   36882  Beatrice Marshall  Female 1963-04-25   \n",
       "  2   30552         Kathy Song  Female 1958-02-21   \n",
       "  3   18008          Ruth Cobb  Female 1961-03-22   \n",
       "  4   16963       Kerry Melton  Female 1964-11-21   \n",
       "  \n",
       "                                             Interests  \\\n",
       "  0  'Education and learning', 'Cooking', 'Sports',...   \n",
       "  1       'Education and learning', 'Cooking', 'Books'   \n",
       "  2  'Education and learning', 'Cooking', 'Pets', '...   \n",
       "  3  'Music', 'Books', 'Education and learning', 'C...   \n",
       "  4  'Pets', 'Gardening', 'Cooking', 'Education and...   \n",
       "  \n",
       "                          City      Country       Age  Gender_Female  \\\n",
       "  0                 Belleville       Canada  0.901961            1.0   \n",
       "  1                  Rovaniemi      Finland  0.803922            1.0   \n",
       "  2                  Masterton  New Zealand  0.921569            1.0   \n",
       "  3            Pindamonhangaba       Brazil  0.843137            1.0   \n",
       "  4  Zürich (Kreis 10) / Höngg  Switzerland  0.784314            1.0   \n",
       "  \n",
       "     Gender_Male  similarity  \n",
       "  0          0.0      0.9473  \n",
       "  1          0.0      0.9235  \n",
       "  2          0.0      0.9145  \n",
       "  3          0.0      0.9124  \n",
       "  4          0.0      0.9107  ,\n",
       "  0.9217),\n",
       " (   UserID                Name  Gender        DOB  \\\n",
       "  0   50893       Margaret Dyer  Female 2001-01-30   \n",
       "  1   47116       Latasha Quinn  Female 1999-08-17   \n",
       "  2   42940          Mary Moore  Female 1987-03-18   \n",
       "  3   82587        Will Jackson  Female 2001-09-04   \n",
       "  4   32674  Charles Castrellon  Female 1983-06-27   \n",
       "  \n",
       "                                             Interests            City Country  \\\n",
       "  0         'Business and entrepreneurship', 'Fitness'         Gniezno  Poland   \n",
       "  1         'Business and entrepreneurship', 'Fitness'         Dimāpur   India   \n",
       "  2         'Business and entrepreneurship', 'Fitness'         Wanggou   China   \n",
       "  3  'Pets', 'Fitness', 'Fitness', 'Business and en...          Baijia   China   \n",
       "  4         'Business and entrepreneurship', 'Fitness'  Akademicheskoe  Russia   \n",
       "  \n",
       "          Age  Gender_Female  Gender_Male  similarity  \n",
       "  0  0.078431            1.0          0.0      0.9363  \n",
       "  1  0.098039            1.0          0.0      0.9363  \n",
       "  2  0.333333            1.0          0.0      0.9264  \n",
       "  3  0.058824            1.0          0.0      0.9257  \n",
       "  4  0.411765            1.0          0.0      0.9194  ,\n",
       "  0.9288),\n",
       " (   UserID              Name  Gender        DOB Interests             City  \\\n",
       "  0   50254  Gabriel Matthews  Female 1977-05-01     'Art'  Chabet el Ameur   \n",
       "  1   51090       Lida Wilson  Female 1977-08-30     'Art'            Jimma   \n",
       "  2   74761        Kay Schmig  Female 1977-12-22     'Art'          Kishapu   \n",
       "  3   97508     Jose Lavalley  Female 1977-07-22     'Art'       Cileungsir   \n",
       "  4   97827   Michael Nichols  Female 1977-04-08     'Art'           Casula   \n",
       "  \n",
       "       Country       Age  Gender_Female  Gender_Male  similarity  \n",
       "  0    Algeria  0.529412            1.0          0.0         1.0  \n",
       "  1   Ethiopia  0.529412            1.0          0.0         1.0  \n",
       "  2   Tanzania  0.529412            1.0          0.0         1.0  \n",
       "  3  Indonesia  0.529412            1.0          0.0         1.0  \n",
       "  4  Australia  0.529412            1.0          0.0         1.0  ,\n",
       "  1.0)]"
      ]
     },
     "execution_count": 114,
     "metadata": {},
     "output_type": "execute_result"
    }
   ],
   "source": [
    "multiple_users(user_indices,user_profile,min_similarity=0.8,top_n=5)       "
   ]
  },
  {
   "cell_type": "code",
   "execution_count": 115,
   "metadata": {},
   "outputs": [
    {
     "name": "stdout",
     "output_type": "stream",
     "text": [
      "(   UserID             Name Gender        DOB  \\\n",
      "0    4805    Dwight Murphy   Male 1962-12-11   \n",
      "1    1284        Star Imai   Male 1982-06-22   \n",
      "2   68118  William Ehrhart   Male 1967-01-08   \n",
      "3   98327       Rita Paulk   Male 1994-12-16   \n",
      "4   87088     Robert Blake   Male 1977-11-16   \n",
      "\n",
      "                                           Interests         City  \\\n",
      "0  'Social causes and activism', 'Nature', 'Techn...      Esbjerg   \n",
      "1  'Nature', 'Technology', 'Social causes and act...      Samdari   \n",
      "2  'Nature', 'Technology', 'Social causes and act...  Castle Rock   \n",
      "3  'Technology', 'Nature', 'Social causes and act...        Massy   \n",
      "4  'Nature', 'Technology', 'Nature', 'Social caus...      Tatsuno   \n",
      "\n",
      "         Country       Age  Gender_Female  Gender_Male  similarity  \n",
      "0        Denmark  0.823529            0.0          1.0      0.9995  \n",
      "1          India  0.431373            0.0          1.0      0.9930  \n",
      "2  United States  0.745098            0.0          1.0      0.9925  \n",
      "3         France  0.196078            0.0          1.0      0.9833  \n",
      "4          Japan  0.529412            0.0          1.0      0.9820  , 0.9901)\n",
      "(   UserID             Name  Gender        DOB                  Interests  \\\n",
      "0   12849     Arthur Brown  Female 1992-10-26  'Finance and investments'   \n",
      "1   22006     Michael Gray  Female 1992-09-16  'Finance and investments'   \n",
      "2   43220  Melissa Roberts  Female 1992-04-04  'Finance and investments'   \n",
      "3   52886      Deborah Ely  Female 1992-12-15  'Finance and investments'   \n",
      "4   58806      Robert Ross  Female 1992-03-29  'Finance and investments'   \n",
      "\n",
      "          City    Country       Age  Gender_Female  Gender_Male  similarity  \n",
      "0    Kozhikode      India  0.235294            1.0          0.0         1.0  \n",
      "1  Jhanjhārpur      India  0.235294            1.0          0.0         1.0  \n",
      "2      Güstrow    Germany  0.235294            1.0          0.0         1.0  \n",
      "3        Dogbo      Benin  0.235294            1.0          0.0         1.0  \n",
      "4    Margasari  Indonesia  0.235294            1.0          0.0         1.0  , 1.0)\n",
      "(   UserID               Name  Gender        DOB  \\\n",
      "0   82121       Paul Herrera  Female 1958-04-08   \n",
      "1   36882  Beatrice Marshall  Female 1963-04-25   \n",
      "2   30552         Kathy Song  Female 1958-02-21   \n",
      "3   18008          Ruth Cobb  Female 1961-03-22   \n",
      "4   16963       Kerry Melton  Female 1964-11-21   \n",
      "\n",
      "                                           Interests  \\\n",
      "0  'Education and learning', 'Cooking', 'Sports',...   \n",
      "1       'Education and learning', 'Cooking', 'Books'   \n",
      "2  'Education and learning', 'Cooking', 'Pets', '...   \n",
      "3  'Music', 'Books', 'Education and learning', 'C...   \n",
      "4  'Pets', 'Gardening', 'Cooking', 'Education and...   \n",
      "\n",
      "                        City      Country       Age  Gender_Female  \\\n",
      "0                 Belleville       Canada  0.901961            1.0   \n",
      "1                  Rovaniemi      Finland  0.803922            1.0   \n",
      "2                  Masterton  New Zealand  0.921569            1.0   \n",
      "3            Pindamonhangaba       Brazil  0.843137            1.0   \n",
      "4  Zürich (Kreis 10) / Höngg  Switzerland  0.784314            1.0   \n",
      "\n",
      "   Gender_Male  similarity  \n",
      "0          0.0      0.9473  \n",
      "1          0.0      0.9235  \n",
      "2          0.0      0.9145  \n",
      "3          0.0      0.9124  \n",
      "4          0.0      0.9107  , 0.9217)\n",
      "(   UserID                Name  Gender        DOB  \\\n",
      "0   50893       Margaret Dyer  Female 2001-01-30   \n",
      "1   47116       Latasha Quinn  Female 1999-08-17   \n",
      "2   42940          Mary Moore  Female 1987-03-18   \n",
      "3   82587        Will Jackson  Female 2001-09-04   \n",
      "4   32674  Charles Castrellon  Female 1983-06-27   \n",
      "\n",
      "                                           Interests            City Country  \\\n",
      "0         'Business and entrepreneurship', 'Fitness'         Gniezno  Poland   \n",
      "1         'Business and entrepreneurship', 'Fitness'         Dimāpur   India   \n",
      "2         'Business and entrepreneurship', 'Fitness'         Wanggou   China   \n",
      "3  'Pets', 'Fitness', 'Fitness', 'Business and en...          Baijia   China   \n",
      "4         'Business and entrepreneurship', 'Fitness'  Akademicheskoe  Russia   \n",
      "\n",
      "        Age  Gender_Female  Gender_Male  similarity  \n",
      "0  0.078431            1.0          0.0      0.9363  \n",
      "1  0.098039            1.0          0.0      0.9363  \n",
      "2  0.333333            1.0          0.0      0.9264  \n",
      "3  0.058824            1.0          0.0      0.9257  \n",
      "4  0.411765            1.0          0.0      0.9194  , 0.9288)\n",
      "(   UserID              Name  Gender        DOB Interests             City  \\\n",
      "0   50254  Gabriel Matthews  Female 1977-05-01     'Art'  Chabet el Ameur   \n",
      "1   51090       Lida Wilson  Female 1977-08-30     'Art'            Jimma   \n",
      "2   74761        Kay Schmig  Female 1977-12-22     'Art'          Kishapu   \n",
      "3   97508     Jose Lavalley  Female 1977-07-22     'Art'       Cileungsir   \n",
      "4   97827   Michael Nichols  Female 1977-04-08     'Art'           Casula   \n",
      "\n",
      "     Country       Age  Gender_Female  Gender_Male  similarity  \n",
      "0    Algeria  0.529412            1.0          0.0         1.0  \n",
      "1   Ethiopia  0.529412            1.0          0.0         1.0  \n",
      "2   Tanzania  0.529412            1.0          0.0         1.0  \n",
      "3  Indonesia  0.529412            1.0          0.0         1.0  \n",
      "4  Australia  0.529412            1.0          0.0         1.0  , 1.0)\n"
     ]
    }
   ],
   "source": [
    "for i in range(len(user_indices)):\n",
    "    user_index = user_indices[i]\n",
    "    recommendations = recommend_user(user_index, user_profile, min_similarity=0.8, top_n=5)\n",
    "    print(recommendations)\n"
   ]
  },
  {
   "cell_type": "code",
   "execution_count": null,
   "metadata": {},
   "outputs": [],
   "source": []
  }
 ],
 "metadata": {
  "kernelspec": {
   "display_name": "Python 3",
   "language": "python",
   "name": "python3"
  },
  "language_info": {
   "codemirror_mode": {
    "name": "ipython",
    "version": 3
   },
   "file_extension": ".py",
   "mimetype": "text/x-python",
   "name": "python",
   "nbconvert_exporter": "python",
   "pygments_lexer": "ipython3",
   "version": "3.12.7"
  }
 },
 "nbformat": 4,
 "nbformat_minor": 2
}
